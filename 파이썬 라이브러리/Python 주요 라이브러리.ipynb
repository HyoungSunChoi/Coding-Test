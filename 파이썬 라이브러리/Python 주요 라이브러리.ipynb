{
 "cells": [
  {
   "cell_type": "markdown",
   "metadata": {},
   "source": [
    "#### 파이썬의 일부 라이브러리는 수행 시간이 비효율적으로 증가함 유의!!"
   ]
  },
  {
   "cell_type": "markdown",
   "metadata": {},
   "source": [
    "표준 라이브러리\n",
    "- 특정한 프로그래밍 언어에서 자주 사용되는 표준 소스코드를 미리 구현해 놓은 라이브러리\n",
    "- https://docs.python.org/ko/3/library/index.html\n",
    "\n",
    "\n",
    "- 내장 함수 : print(), input(), sorted()\n",
    "- itertools : 반복되는 형태의 데이터를 처리하는 기능 ( 순열 & 조합 )\n",
    "- heapq : 힙 기능을 제공하는 라이브러리 . ( 우선순위 큐 )\n",
    "- bisect : 이진 탐색 기능을 제공하는 라이브러리\n",
    "- collections : 덱(deque) 카운터(Counter) 등의 자료구조 포함\n",
    "- math : 팰토리얼, 제곱근, 최대공약수, 삼각함수, 파이"
   ]
  },
  {
   "cell_type": "markdown",
   "metadata": {},
   "source": [
    "#### 1. 내장함수\n",
    "- iterable 객체가 입력으로 주어질 때 모든 원소의 합을 반환한다."
   ]
  },
  {
   "cell_type": "code",
   "execution_count": 2,
   "metadata": {},
   "outputs": [
    {
     "data": {
      "text/plain": [
       "15"
      ]
     },
     "execution_count": 2,
     "metadata": {},
     "output_type": "execute_result"
    }
   ],
   "source": [
    "result= sum([1,2,3,4,5])\n",
    "result"
   ]
  },
  {
   "cell_type": "markdown",
   "metadata": {},
   "source": [
    "- min() 함수는 파라미터가 2개 이상 들어왔을 때 가장 작은 값 반환\n",
    "- max() 함수는 파라미터가 2개 이상 들어왔을 때 가장 큰 값 반환"
   ]
  },
  {
   "cell_type": "code",
   "execution_count": 4,
   "metadata": {},
   "outputs": [
    {
     "data": {
      "text/plain": [
       "2"
      ]
     },
     "execution_count": 4,
     "metadata": {},
     "output_type": "execute_result"
    }
   ],
   "source": [
    "result = min(7,3,5,2)\n",
    "result"
   ]
  },
  {
   "cell_type": "markdown",
   "metadata": {},
   "source": [
    "- eval() 함수는 수식을 계산한 결과 반환"
   ]
  },
  {
   "cell_type": "code",
   "execution_count": 5,
   "metadata": {},
   "outputs": [
    {
     "data": {
      "text/plain": [
       "56"
      ]
     },
     "execution_count": 5,
     "metadata": {},
     "output_type": "execute_result"
    }
   ],
   "source": [
    "result= eval(\"(3+5)*7\")\n",
    "result"
   ]
  },
  {
   "cell_type": "markdown",
   "metadata": {},
   "source": [
    "- sorted() 함수는 iterable 객체가 들어왔을 때 정렬된 결과 반환\n",
    "    - key 속성으로 정렬 기준 명시 \n",
    "    - reverse 속성으로 오름/내림차순 선택\n",
    "    - sort() 함수와 달리 기존의 정렬을 변경하지 않는다"
   ]
  },
  {
   "cell_type": "code",
   "execution_count": 8,
   "metadata": {},
   "outputs": [
    {
     "name": "stdout",
     "output_type": "stream",
     "text": [
      "[1, 4, 5, 8, 9]\n",
      "[9, 8, 5, 4, 1]\n",
      "[('이순신', 75), ('홍길동', 35), ('아무개', 20)]\n"
     ]
    }
   ],
   "source": [
    "result=sorted([9,1,8,5,4])\n",
    "print(result)\n",
    "result=sorted([9,1,8,5,4], reverse=True)\n",
    "print(result)\n",
    "result=sorted([('홍길동',35),('이순신',75),('아무개',20)], key=lambda x : x[1], reverse=True)\n",
    "print(result)"
   ]
  },
  {
   "cell_type": "markdown",
   "metadata": {},
   "source": [
    "#### 2. itertools\n",
    "- iterable 객체에서 사용한다\n",
    "\n",
    "\n",
    "- permutations ( 순열 )\n",
    "    - ? 개수를 뽑아 나열하는 모든 경우의 수\n",
    "- combinations ( 조합 )\n",
    "    - ? 개수를 뽑아 나열하는 (순서를 고려하지 않은) 모든 경우의 수\n",
    "- product \n",
    "    - 중복을 허용한 순열의 경우의 수"
   ]
  },
  {
   "cell_type": "code",
   "execution_count": 11,
   "metadata": {},
   "outputs": [
    {
     "data": {
      "text/plain": [
       "[('A', 'B', 'C'),\n",
       " ('A', 'C', 'B'),\n",
       " ('B', 'A', 'C'),\n",
       " ('B', 'C', 'A'),\n",
       " ('C', 'A', 'B'),\n",
       " ('C', 'B', 'A')]"
      ]
     },
     "execution_count": 11,
     "metadata": {},
     "output_type": "execute_result"
    }
   ],
   "source": [
    "from itertools import permutations\n",
    "data=['A','B','C']\n",
    "result=list(permutations(data,3))\n",
    "result"
   ]
  },
  {
   "cell_type": "code",
   "execution_count": 13,
   "metadata": {},
   "outputs": [
    {
     "data": {
      "text/plain": [
       "[('A', 'B'), ('A', 'C'), ('B', 'C')]"
      ]
     },
     "execution_count": 13,
     "metadata": {},
     "output_type": "execute_result"
    }
   ],
   "source": [
    "from itertools import combinations\n",
    "data=['A','B','C']\n",
    "result=list(combinations(data,2))\n",
    "result"
   ]
  },
  {
   "cell_type": "code",
   "execution_count": 14,
   "metadata": {},
   "outputs": [
    {
     "data": {
      "text/plain": [
       "[('A', 'A'),\n",
       " ('A', 'B'),\n",
       " ('A', 'C'),\n",
       " ('B', 'A'),\n",
       " ('B', 'B'),\n",
       " ('B', 'C'),\n",
       " ('C', 'A'),\n",
       " ('C', 'B'),\n",
       " ('C', 'C')]"
      ]
     },
     "execution_count": 14,
     "metadata": {},
     "output_type": "execute_result"
    }
   ],
   "source": [
    "from itertools import product\n",
    "data=['A','B','C']\n",
    "result=list(product(data, repeat=2))\n",
    "result"
   ]
  },
  {
   "cell_type": "code",
   "execution_count": 15,
   "metadata": {},
   "outputs": [
    {
     "data": {
      "text/plain": [
       "[('A', 'A'), ('A', 'B'), ('A', 'C'), ('B', 'B'), ('B', 'C'), ('C', 'C')]"
      ]
     },
     "execution_count": 15,
     "metadata": {},
     "output_type": "execute_result"
    }
   ],
   "source": [
    "from itertools import combinations_with_replacement\n",
    "data=['A','B','C']\n",
    "result=list(combinations_with_replacement(data,2))\n",
    "result"
   ]
  },
  {
   "cell_type": "markdown",
   "metadata": {},
   "source": [
    "#### 3. heapq\n",
    "- heapq 는 다익스트라 최단 경로 알고리즘을 포함하여 다양한 알고리즘에서 우선순위 큐 기능을 구현할 때 사용된다\n",
    "- 시간복잡도 O(NlogN) 오름차순 정렬\n",
    "- 힙 원소 추가\n",
    "    - heapq.heappush()\n",
    "- 힙 원소 제거\n",
    "    - heapq.heappop()"
   ]
  },
  {
   "cell_type": "code",
   "execution_count": 16,
   "metadata": {},
   "outputs": [
    {
     "data": {
      "text/plain": [
       "[0, 1, 2, 3, 4, 5, 6, 7, 8, 9]"
      ]
     },
     "execution_count": 16,
     "metadata": {},
     "output_type": "execute_result"
    }
   ],
   "source": [
    "import heapq\n",
    "def heapsort(iterable):\n",
    "    h=[]\n",
    "    result= []\n",
    "    # 원소를 차례대로 삽입 ( 이 과정에서 정렬이 된다)\n",
    "    for value in iterable:\n",
    "        heapq.heappush(h, value)\n",
    "    # 원소 차례대로 꺼내기 ( 맨 앞부터 )\n",
    "    for i in range(len(h)):\n",
    "        result.append(heapq.heappop(h))\n",
    "    return result\n",
    "\n",
    "result= heapsort([1,3,5,7,9,2,4,6,8,0])\n",
    "result"
   ]
  },
  {
   "cell_type": "code",
   "execution_count": 17,
   "metadata": {},
   "outputs": [
    {
     "data": {
      "text/plain": [
       "[9, 8, 7, 6, 5, 4, 3, 2, 1, 0]"
      ]
     },
     "execution_count": 17,
     "metadata": {},
     "output_type": "execute_result"
    }
   ],
   "source": [
    "# 최대 힙 구현은 원소의 부호를 임시로 변경한다\n",
    "# 힙 원소 삽입하기 전 부호를 바꾸었다가, 원소를 꺼낼 때 부호를 바꾸면 된다\n",
    "def heapsort(iterable):\n",
    "    h=[]\n",
    "    result=[]\n",
    "    for x in iterable:\n",
    "        heapq.heappush(h, -x)\n",
    "    \n",
    "    for i in range(len(h)):\n",
    "        result.append(-heapq.heappop(h))\n",
    "    return result\n",
    "result= heapsort([1,3,5,7,9,2,4,6,8,0])\n",
    "result"
   ]
  },
  {
   "cell_type": "markdown",
   "metadata": {},
   "source": [
    "#### 4. bisect\n",
    "- 이진 탐색\n",
    "- 정렬된 배열에서 특정 원소 찾을 때 유용하다\n",
    "- bisect_left(a,x) \n",
    "    - 정렬된 순서를 유지하면서 리스트 a 에 데이터 x 를 삽입할 가장 왼쪽 인덱스\n",
    "- bisect_right(a,x)\n",
    "    - 정렬된 순서를 유지하면서 리스트 a 에 데이터 x를 삽입할 가장 오른쪽 인덱스"
   ]
  },
  {
   "cell_type": "code",
   "execution_count": 18,
   "metadata": {},
   "outputs": [
    {
     "name": "stdout",
     "output_type": "stream",
     "text": [
      "2\n",
      "4\n"
     ]
    }
   ],
   "source": [
    "from bisect import bisect_left, bisect_right\n",
    "a=[1,2,4,4,8]\n",
    "x=4\n",
    "print(bisect_left(a,x))\n",
    "print(bisect_right(a,x))\n",
    "#  1    2       4    4        8\n",
    "#         left          right"
   ]
  },
  {
   "cell_type": "markdown",
   "metadata": {},
   "source": [
    "- 특정 범위에 속하는 원소의 개수 구할 때 활용 가능"
   ]
  },
  {
   "cell_type": "code",
   "execution_count": 21,
   "metadata": {},
   "outputs": [
    {
     "name": "stdout",
     "output_type": "stream",
     "text": [
      "2\n",
      "6\n"
     ]
    }
   ],
   "source": [
    "from bisect import bisect_left, bisect_right\n",
    "\n",
    "def count_by_range(a, left_value, right_value):\n",
    "    right_index = bisect_right(a, right_value)\n",
    "    left_index = bisect_left(a, left_value)\n",
    "    return right_index - left_index\n",
    "a=[1,2,3,3,3,3,4,4,8,9]\n",
    "\n",
    "# 값이 4 인 데이터 개수 출력\n",
    "print(count_by_range(a, 4, 4))\n",
    "# 값이 -1 , 3 범위에 있는 데이터 개수 출력\n",
    "print(count_by_range(a, -1, 3))"
   ]
  },
  {
   "cell_type": "markdown",
   "metadata": {},
   "source": [
    "#### 5. collections\n",
    "- deque\n",
    "    - 리스트 보다 시간 복잡도가 빠름\n",
    "    - 인덱싱, 슬라이싱 기능 사용 불가\n",
    "    - 스택 / 큐 자료구조 대용으로 활용됨\n",
    "- Counter\n",
    "    - 등장 횟수 세기"
   ]
  },
  {
   "cell_type": "code",
   "execution_count": 23,
   "metadata": {},
   "outputs": [
    {
     "name": "stdout",
     "output_type": "stream",
     "text": [
      "deque([0, 1, 2, 4, 5])\n"
     ]
    }
   ],
   "source": [
    "from collections import deque\n",
    "\n",
    "data=deque([1,2,4])\n",
    "data.appendleft(0)\n",
    "data.append(5)\n",
    "print(data)"
   ]
  },
  {
   "cell_type": "code",
   "execution_count": 24,
   "metadata": {},
   "outputs": [
    {
     "name": "stdout",
     "output_type": "stream",
     "text": [
      "Counter({'blue': 2, 'red': 1, 'green': 1})\n"
     ]
    }
   ],
   "source": [
    "from collections import Counter\n",
    "counter = Counter(['red','blue','green','blue'])\n",
    "print(counter)"
   ]
  },
  {
   "cell_type": "markdown",
   "metadata": {},
   "source": [
    "#### 6. math\n",
    "- 팩토리얼\n",
    "    - factorial\n",
    "- 제곱근 \n",
    "    - sqrt(x)\n",
    "- 최대공약수\n",
    "    - gcd(n , n)\n",
    "- pi"
   ]
  },
  {
   "cell_type": "code",
   "execution_count": 26,
   "metadata": {},
   "outputs": [
    {
     "name": "stdout",
     "output_type": "stream",
     "text": [
      "120\n",
      "2.6457513110645907\n",
      "7\n",
      "3.141592653589793\n",
      "2.718281828459045\n"
     ]
    }
   ],
   "source": [
    "import math\n",
    "print(math.factorial(5))\n",
    "print(math.sqrt(7))\n",
    "print(math.gcd(21,14))\n",
    "print(math.pi)\n",
    "print(math.e)"
   ]
  },
  {
   "cell_type": "markdown",
   "metadata": {},
   "source": []
  }
 ],
 "metadata": {
  "kernelspec": {
   "display_name": "Python 3",
   "language": "python",
   "name": "python3"
  },
  "language_info": {
   "codemirror_mode": {
    "name": "ipython",
    "version": 3
   },
   "file_extension": ".py",
   "mimetype": "text/x-python",
   "name": "python",
   "nbconvert_exporter": "python",
   "pygments_lexer": "ipython3",
   "version": "3.7.6"
  }
 },
 "nbformat": 4,
 "nbformat_minor": 4
}
